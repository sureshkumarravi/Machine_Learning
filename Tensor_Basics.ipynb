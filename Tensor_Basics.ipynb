{
  "nbformat": 4,
  "nbformat_minor": 0,
  "metadata": {
    "colab": {
      "name": "Tensor_Basics.ipynb",
      "provenance": [],
      "authorship_tag": "ABX9TyOm84AKRDCQ2GzxSuduGYM/",
      "include_colab_link": true
    },
    "kernelspec": {
      "name": "python3",
      "display_name": "Python 3"
    }
  },
  "cells": [
    {
      "cell_type": "markdown",
      "metadata": {
        "id": "view-in-github",
        "colab_type": "text"
      },
      "source": [
        "<a href=\"https://colab.research.google.com/github/sureshkumarravi/Machine_Learning/blob/master/Tensor_Basics.ipynb\" target=\"_parent\"><img src=\"https://colab.research.google.com/assets/colab-badge.svg\" alt=\"Open In Colab\"/></a>"
      ]
    },
    {
      "cell_type": "code",
      "metadata": {
        "id": "w55Iul1ymSWP"
      },
      "source": [
        "import tensorflow as tf"
      ],
      "execution_count": 1,
      "outputs": []
    },
    {
      "cell_type": "code",
      "metadata": {
        "colab": {
          "base_uri": "https://localhost:8080/"
        },
        "id": "N8xpojGLnMOl",
        "outputId": "a63a196f-15aa-4628-be6d-70633121ddc2"
      },
      "source": [
        "#Initialization of tensors.\r\n",
        "x =tf.constant(4)\r\n",
        "print (x)\r\n",
        "x =tf.constant(4.0)\r\n",
        "print (x)\r\n",
        "x = tf.constant(4,shape =(1,1), dtype =tf.float32)\r\n",
        "print (x)\r\n",
        "x = tf.constant([[1,2,3],[4,5,6]])\r\n",
        "print(x)\r\n",
        "x = tf.ones((3,3))\r\n",
        "print(x)\r\n",
        "x = tf.zeros((2,3))\r\n",
        "print(x)\r\n",
        "x = tf.eye(3)\r\n",
        "print (x)\r\n",
        "x = tf.random.normal((3,3), mean=0, stddev= 1.0)\r\n",
        "print (x)\r\n",
        "x = tf.random.uniform((1,3), minval= 0, maxval= 2.0)\r\n",
        "print(x)\r\n",
        "x = tf.range(9)\r\n",
        "print(x)\r\n",
        "x = tf.range(start=1, limit= 10, delta=2)\r\n",
        "print (x)\r\n",
        "x = tf.cast(x, dtype=tf.float32)\r\n",
        "print(x)"
      ],
      "execution_count": 12,
      "outputs": [
        {
          "output_type": "stream",
          "text": [
            "tf.Tensor(4, shape=(), dtype=int32)\n",
            "tf.Tensor(4.0, shape=(), dtype=float32)\n",
            "tf.Tensor([[4.]], shape=(1, 1), dtype=float32)\n",
            "tf.Tensor(\n",
            "[[1 2 3]\n",
            " [4 5 6]], shape=(2, 3), dtype=int32)\n",
            "tf.Tensor(\n",
            "[[1. 1. 1.]\n",
            " [1. 1. 1.]\n",
            " [1. 1. 1.]], shape=(3, 3), dtype=float32)\n",
            "tf.Tensor(\n",
            "[[0. 0. 0.]\n",
            " [0. 0. 0.]], shape=(2, 3), dtype=float32)\n",
            "tf.Tensor(\n",
            "[[1. 0. 0.]\n",
            " [0. 1. 0.]\n",
            " [0. 0. 1.]], shape=(3, 3), dtype=float32)\n",
            "tf.Tensor(\n",
            "[[-0.08919822 -0.38293487 -1.0508325 ]\n",
            " [ 0.90355104  0.9584921   0.83677274]\n",
            " [ 1.376779    0.6645237  -2.8454533 ]], shape=(3, 3), dtype=float32)\n",
            "tf.Tensor([[1.2533813  0.6942203  0.68148136]], shape=(1, 3), dtype=float32)\n",
            "tf.Tensor([0 1 2 3 4 5 6 7 8], shape=(9,), dtype=int32)\n",
            "tf.Tensor([1 3 5 7 9], shape=(5,), dtype=int32)\n",
            "tf.Tensor([1. 3. 5. 7. 9.], shape=(5,), dtype=float32)\n"
          ],
          "name": "stdout"
        }
      ]
    },
    {
      "cell_type": "code",
      "metadata": {
        "colab": {
          "base_uri": "https://localhost:8080/"
        },
        "id": "JnhJnSH-nmO2",
        "outputId": "9d2efcc5-ec39-4f5f-b349-cd6a5a6ca161"
      },
      "source": [
        "#Mathematical Operations\r\n",
        "\r\n",
        "x = tf.constant([1,2,3])\r\n",
        "y = tf.constant([9,8,7])\r\n",
        "z = tf.add(x,y)\r\n",
        "print(z)\r\n",
        "z = x+y\r\n",
        "print(z)\r\n",
        "z = tf.subtract(x,y)\r\n",
        "print(z)\r\n",
        "z = x-y\r\n",
        "print(z)\r\n",
        "z = tf.divide(x,y)\r\n",
        "print(z)\r\n",
        "z = x/y\r\n",
        "print(z)\r\n",
        "z = tf.multiply(x,y)\r\n",
        "print(z)\r\n",
        "z = x*y\r\n",
        "print(z)\r\n",
        "z = tf.tensordot(x,y,axes=0)\r\n",
        "print (z)\r\n",
        "z = tf.reduce_sum(x*y, axis = 0)\r\n",
        "print (z)\r\n",
        "\r\n",
        "z = x ** 5 \r\n",
        "print (z)\r\n",
        "\r\n",
        "x = tf.random.normal((2,3))\r\n",
        "y = tf.random.normal((3,4))\r\n",
        "z = tf.matmul(x,y)\r\n",
        "print(z)\r\n",
        "z= x@y\r\n",
        "print (z)"
      ],
      "execution_count": 24,
      "outputs": [
        {
          "output_type": "stream",
          "text": [
            "tf.Tensor([10 10 10], shape=(3,), dtype=int32)\n",
            "tf.Tensor([10 10 10], shape=(3,), dtype=int32)\n",
            "tf.Tensor([-8 -6 -4], shape=(3,), dtype=int32)\n",
            "tf.Tensor([-8 -6 -4], shape=(3,), dtype=int32)\n",
            "tf.Tensor([0.11111111 0.25       0.42857143], shape=(3,), dtype=float64)\n",
            "tf.Tensor([0.11111111 0.25       0.42857143], shape=(3,), dtype=float64)\n",
            "tf.Tensor([ 9 16 21], shape=(3,), dtype=int32)\n",
            "tf.Tensor([ 9 16 21], shape=(3,), dtype=int32)\n",
            "tf.Tensor(\n",
            "[[ 9  8  7]\n",
            " [18 16 14]\n",
            " [27 24 21]], shape=(3, 3), dtype=int32)\n",
            "tf.Tensor(46, shape=(), dtype=int32)\n",
            "tf.Tensor([  1  32 243], shape=(3,), dtype=int32)\n",
            "tf.Tensor(\n",
            "[[-0.6323185   2.9644115  -0.46835604  1.1652241 ]\n",
            " [-0.4145994   0.76904225  0.4716306  -0.3498451 ]], shape=(2, 4), dtype=float32)\n",
            "tf.Tensor(\n",
            "[[-0.6323185   2.9644115  -0.46835604  1.1652241 ]\n",
            " [-0.4145994   0.76904225  0.4716306  -0.3498451 ]], shape=(2, 4), dtype=float32)\n"
          ],
          "name": "stdout"
        }
      ]
    },
    {
      "cell_type": "code",
      "metadata": {
        "colab": {
          "base_uri": "https://localhost:8080/"
        },
        "id": "_pMRI8gXtsaM",
        "outputId": "cc8d8dfb-37c5-4b94-ec0e-99a00b1b4050"
      },
      "source": [
        "#Indexing\r\n",
        "\r\n",
        "x = tf.constant([0,1,1,2,3,4,5,6,5,4])\r\n",
        "print (x)\r\n",
        "print (x[:])\r\n",
        "print (x[1:])\r\n",
        "print (x[2:4])\r\n",
        "print (x[::2])\r\n",
        "print (x[::-1])\r\n",
        "\r\n",
        "indices = tf.constant([0,3,5])\r\n",
        "x_ind = tf.gather(x, indices)\r\n",
        "print (x_ind)\r\n",
        "\r\n",
        "x  = tf.constant([[0,1],\r\n",
        "                  [2,3],\r\n",
        "                  [4,5]])\r\n",
        "print (x[0])\r\n",
        "print (x[0,:])\r\n",
        "print (x[0:2,:])\r\n",
        "\r\n",
        "\r\n"
      ],
      "execution_count": 28,
      "outputs": [
        {
          "output_type": "stream",
          "text": [
            "tf.Tensor([0 1 1 2 3 4 5 6 5 4], shape=(10,), dtype=int32)\n",
            "tf.Tensor([0 1 1 2 3 4 5 6 5 4], shape=(10,), dtype=int32)\n",
            "tf.Tensor([1 1 2 3 4 5 6 5 4], shape=(9,), dtype=int32)\n",
            "tf.Tensor([1 2], shape=(2,), dtype=int32)\n",
            "tf.Tensor([0 1 3 5 5], shape=(5,), dtype=int32)\n",
            "tf.Tensor([4 5 6 5 4 3 2 1 1 0], shape=(10,), dtype=int32)\n",
            "tf.Tensor([0 2 4], shape=(3,), dtype=int32)\n",
            "tf.Tensor([0 1], shape=(2,), dtype=int32)\n",
            "tf.Tensor([0 1], shape=(2,), dtype=int32)\n",
            "tf.Tensor(\n",
            "[[0 1]\n",
            " [2 3]], shape=(2, 2), dtype=int32)\n"
          ],
          "name": "stdout"
        }
      ]
    },
    {
      "cell_type": "code",
      "metadata": {
        "colab": {
          "base_uri": "https://localhost:8080/"
        },
        "id": "gRoZ3yWnx3aw",
        "outputId": "a95fdbb3-ff97-4a61-c039-853e73d85b8e"
      },
      "source": [
        "#Reshaping\r\n",
        "\r\n",
        "x = tf.range(9)\r\n",
        "print (x)\r\n",
        "\r\n",
        "x = tf.reshape(x, (3,3))\r\n",
        "print (x)\r\n",
        "\r\n",
        "x = tf.random.normal((2,3), mean = 0, stddev= 10)\r\n",
        "print (x)\r\n",
        "\r\n",
        "x = tf.transpose(x)\r\n",
        "print (x)\r\n",
        "\r\n",
        "x = tf.transpose(x, perm=[1,0])\r\n",
        "print (x)\r\n",
        "\r\n",
        "x = tf.constant([[[ 1,  2,  3],\r\n",
        "                  [ 4,  5,  6]],\r\n",
        "                 [[ 7,  8,  9],\r\n",
        "                  [10, 11, 12]]])\r\n",
        "print (x)\r\n",
        "\r\n",
        "x = tf.transpose(x, perm=[2,1,0])\r\n",
        "print (x)\r\n",
        "\r\n",
        "x = tf.transpose(x, perm=[0,2,1])\r\n",
        "print (x)"
      ],
      "execution_count": 41,
      "outputs": [
        {
          "output_type": "stream",
          "text": [
            "tf.Tensor([0 1 2 3 4 5 6 7 8], shape=(9,), dtype=int32)\n",
            "tf.Tensor(\n",
            "[[0 1 2]\n",
            " [3 4 5]\n",
            " [6 7 8]], shape=(3, 3), dtype=int32)\n",
            "tf.Tensor(\n",
            "[[ -4.4568334   -5.6932993   -0.45898262]\n",
            " [ 16.049297   -15.374996    -5.889089  ]], shape=(2, 3), dtype=float32)\n",
            "tf.Tensor(\n",
            "[[ -4.4568334   16.049297  ]\n",
            " [ -5.6932993  -15.374996  ]\n",
            " [ -0.45898262  -5.889089  ]], shape=(3, 2), dtype=float32)\n",
            "tf.Tensor(\n",
            "[[ -4.4568334   -5.6932993   -0.45898262]\n",
            " [ 16.049297   -15.374996    -5.889089  ]], shape=(2, 3), dtype=float32)\n",
            "tf.Tensor(\n",
            "[[[ 1  2  3]\n",
            "  [ 4  5  6]]\n",
            "\n",
            " [[ 7  8  9]\n",
            "  [10 11 12]]], shape=(2, 2, 3), dtype=int32)\n",
            "tf.Tensor(\n",
            "[[[ 1  7]\n",
            "  [ 4 10]]\n",
            "\n",
            " [[ 2  8]\n",
            "  [ 5 11]]\n",
            "\n",
            " [[ 3  9]\n",
            "  [ 6 12]]], shape=(3, 2, 2), dtype=int32)\n",
            "tf.Tensor(\n",
            "[[[ 1  4]\n",
            "  [ 7 10]]\n",
            "\n",
            " [[ 2  5]\n",
            "  [ 8 11]]\n",
            "\n",
            " [[ 3  6]\n",
            "  [ 9 12]]], shape=(3, 2, 2), dtype=int32)\n"
          ],
          "name": "stdout"
        }
      ]
    },
    {
      "cell_type": "code",
      "metadata": {
        "id": "WED8fxX1zjlm"
      },
      "source": [
        ""
      ],
      "execution_count": null,
      "outputs": []
    }
  ]
}