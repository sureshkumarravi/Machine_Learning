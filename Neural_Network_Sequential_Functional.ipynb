{
  "nbformat": 4,
  "nbformat_minor": 0,
  "metadata": {
    "colab": {
      "name": "Neural_Network_Sequential_Functional.ipynb",
      "provenance": [],
      "authorship_tag": "ABX9TyPVRROLFyqlWel2p2Z9Euto",
      "include_colab_link": true
    },
    "kernelspec": {
      "name": "python3",
      "display_name": "Python 3"
    }
  },
  "cells": [
    {
      "cell_type": "markdown",
      "metadata": {
        "id": "view-in-github",
        "colab_type": "text"
      },
      "source": [
        "<a href=\"https://colab.research.google.com/github/sureshkumarravi/Machine_Learning/blob/master/Neural_Network_Sequential_Functional.ipynb\" target=\"_parent\"><img src=\"https://colab.research.google.com/assets/colab-badge.svg\" alt=\"Open In Colab\"/></a>"
      ]
    },
    {
      "cell_type": "code",
      "metadata": {
        "id": "k06_aU47PrUg"
      },
      "source": [
        "import os\r\n",
        "import tensorflow as tf\r\n",
        "from tensorflow import keras \r\n",
        "from tensorflow.keras import layers\r\n",
        "from tensorflow.keras.datasets import mnist\r\n"
      ],
      "execution_count": 2,
      "outputs": []
    },
    {
      "cell_type": "code",
      "metadata": {
        "colab": {
          "base_uri": "https://localhost:8080/"
        },
        "id": "m1qOI1ECP95m",
        "outputId": "01a4d755-1d06-46f5-8f64-c93980775e2e"
      },
      "source": [
        "(x_train, y_train), (x_test, y_test) = mnist.load_data()\r\n",
        "print (x_train.shape)\r\n",
        "print (y_train.shape)\r\n",
        "print (x_test.shape)\r\n",
        "print (y_test.shape)"
      ],
      "execution_count": 3,
      "outputs": [
        {
          "output_type": "stream",
          "text": [
            "Downloading data from https://storage.googleapis.com/tensorflow/tf-keras-datasets/mnist.npz\n",
            "11493376/11490434 [==============================] - 0s 0us/step\n",
            "(60000, 28, 28)\n",
            "(60000,)\n",
            "(10000, 28, 28)\n",
            "(10000,)\n"
          ],
          "name": "stdout"
        }
      ]
    },
    {
      "cell_type": "code",
      "metadata": {
        "id": "Qhu32CCZVyu3"
      },
      "source": [
        "#Flatten the dataset\r\n",
        "x_train = x_train.reshape(-1, 28*28).astype(\"float32\")/255.0\r\n",
        "x_test = x_test.reshape(-1, 28*28).astype(\"float32\")/255.0\r\n"
      ],
      "execution_count": 4,
      "outputs": []
    },
    {
      "cell_type": "code",
      "metadata": {
        "colab": {
          "base_uri": "https://localhost:8080/"
        },
        "id": "3bkzN5szofsK",
        "outputId": "fc0ddd7d-4974-4a49-fe27-a985738189f2"
      },
      "source": [
        "#Sequential API\r\n",
        "model = keras.Sequential(\r\n",
        "    [\r\n",
        "     keras.Input(shape=(28*28)),\r\n",
        "     layers.Dense(512, activation='relu'), \r\n",
        "     layers.Dense (256, activation='relu'),\r\n",
        "     layers.Dense (10),\r\n",
        "    ]\r\n",
        ")\r\n",
        "\r\n",
        "print (model.summary())\r\n",
        "\r\n",
        "\r\n"
      ],
      "execution_count": 10,
      "outputs": [
        {
          "output_type": "stream",
          "text": [
            "Model: \"sequential_1\"\n",
            "_________________________________________________________________\n",
            "Layer (type)                 Output Shape              Param #   \n",
            "=================================================================\n",
            "dense_3 (Dense)              (None, 512)               401920    \n",
            "_________________________________________________________________\n",
            "dense_4 (Dense)              (None, 256)               131328    \n",
            "_________________________________________________________________\n",
            "dense_5 (Dense)              (None, 10)                2570      \n",
            "=================================================================\n",
            "Total params: 535,818\n",
            "Trainable params: 535,818\n",
            "Non-trainable params: 0\n",
            "_________________________________________________________________\n",
            "None\n"
          ],
          "name": "stdout"
        }
      ]
    },
    {
      "cell_type": "code",
      "metadata": {
        "colab": {
          "base_uri": "https://localhost:8080/"
        },
        "id": "srA3Wb5uqPXc",
        "outputId": "e863426b-05b3-480b-af85-e5036ea05280"
      },
      "source": [
        "model.compile(\r\n",
        "    loss = keras.losses.SparseCategoricalCrossentropy(from_logits= True),\r\n",
        "    optimizer = keras.optimizers.Adam(lr=0.001),\r\n",
        "    metrics= [\"accuracy\"],\r\n",
        ")\r\n",
        "\r\n",
        "model.fit(x_train, y_train, batch_size= 32,  epochs =5, verbose=2)\r\n",
        "model.evaluate(x_test, y_test, batch_size = 32 , verbose=2)"
      ],
      "execution_count": 11,
      "outputs": [
        {
          "output_type": "stream",
          "text": [
            "Epoch 1/5\n",
            "1875/1875 - 10s - loss: 0.5805 - accuracy: 0.8238\n",
            "Epoch 2/5\n",
            "1875/1875 - 10s - loss: 0.2923 - accuracy: 0.9145\n",
            "Epoch 3/5\n",
            "1875/1875 - 10s - loss: 0.2219 - accuracy: 0.9346\n",
            "Epoch 4/5\n",
            "1875/1875 - 11s - loss: 0.1731 - accuracy: 0.9487\n",
            "Epoch 5/5\n",
            "1875/1875 - 10s - loss: 0.1396 - accuracy: 0.9581\n",
            "313/313 - 1s - loss: 0.1284 - accuracy: 0.9601\n"
          ],
          "name": "stdout"
        },
        {
          "output_type": "execute_result",
          "data": {
            "text/plain": [
              "[0.12835603952407837, 0.960099995136261]"
            ]
          },
          "metadata": {
            "tags": []
          },
          "execution_count": 11
        }
      ]
    },
    {
      "cell_type": "code",
      "metadata": {
        "colab": {
          "base_uri": "https://localhost:8080/"
        },
        "id": "wt5Wxmfbqysr",
        "outputId": "5133c424-07b8-4ed9-bc83-d4021cb61f35"
      },
      "source": [
        "#Functional API\r\n",
        "inputs = keras.Input(shape=(784))\r\n",
        "x = layers.Dense(512, activation='relu', name = 'first_layer')(inputs)\r\n",
        "x = layers.Dense(256, activation='relu',  name = 'Second_layer')(x)\r\n",
        "outputs = layers.Dense(10, activation = 'softmax') (x)\r\n",
        "model = keras.Model(inputs = inputs, outputs = outputs)\r\n",
        "\r\n",
        "print (model.summary())\r\n"
      ],
      "execution_count": 9,
      "outputs": [
        {
          "output_type": "stream",
          "text": [
            "Model: \"model_1\"\n",
            "_________________________________________________________________\n",
            "Layer (type)                 Output Shape              Param #   \n",
            "=================================================================\n",
            "input_3 (InputLayer)         [(None, 784)]             0         \n",
            "_________________________________________________________________\n",
            "first_layer (Dense)          (None, 512)               401920    \n",
            "_________________________________________________________________\n",
            "Second_layer (Dense)         (None, 256)               131328    \n",
            "_________________________________________________________________\n",
            "dense_6 (Dense)              (None, 10)                2570      \n",
            "=================================================================\n",
            "Total params: 535,818\n",
            "Trainable params: 535,818\n",
            "Non-trainable params: 0\n",
            "_________________________________________________________________\n",
            "None\n"
          ],
          "name": "stdout"
        }
      ]
    },
    {
      "cell_type": "code",
      "metadata": {
        "colab": {
          "base_uri": "https://localhost:8080/"
        },
        "id": "A27hpaJV1sKM",
        "outputId": "209e896e-ee97-49a9-e328-b5c60e76e3d8"
      },
      "source": [
        "model.compile(\r\n",
        "    loss = keras.losses.SparseCategoricalCrossentropy(from_logits= False),\r\n",
        "    optimizer = keras.optimizers.Adam(lr=0.0001),\r\n",
        "    metrics= [\"accuracy\"],\r\n",
        ")\r\n",
        "\r\n",
        "model.fit(x_train, y_train, batch_size= 32,  epochs =25, verbose=2)\r\n",
        "model.evaluate(x_test, y_test, batch_size = 32 , verbose=2)"
      ],
      "execution_count": 11,
      "outputs": [
        {
          "output_type": "stream",
          "text": [
            "Epoch 1/25\n",
            "1875/1875 - 10s - loss: 0.0497 - accuracy: 0.9854\n",
            "Epoch 2/25\n",
            "1875/1875 - 10s - loss: 0.0396 - accuracy: 0.9888\n",
            "Epoch 3/25\n",
            "1875/1875 - 10s - loss: 0.0316 - accuracy: 0.9912\n",
            "Epoch 4/25\n",
            "1875/1875 - 9s - loss: 0.0252 - accuracy: 0.9932\n",
            "Epoch 5/25\n",
            "1875/1875 - 10s - loss: 0.0205 - accuracy: 0.9949\n",
            "Epoch 6/25\n",
            "1875/1875 - 10s - loss: 0.0161 - accuracy: 0.9963\n",
            "Epoch 7/25\n",
            "1875/1875 - 10s - loss: 0.0130 - accuracy: 0.9967\n",
            "Epoch 8/25\n",
            "1875/1875 - 9s - loss: 0.0100 - accuracy: 0.9979\n",
            "Epoch 9/25\n",
            "1875/1875 - 10s - loss: 0.0083 - accuracy: 0.9981\n",
            "Epoch 10/25\n",
            "1875/1875 - 10s - loss: 0.0065 - accuracy: 0.9987\n",
            "Epoch 11/25\n",
            "1875/1875 - 11s - loss: 0.0050 - accuracy: 0.9991\n",
            "Epoch 12/25\n",
            "1875/1875 - 10s - loss: 0.0053 - accuracy: 0.9988\n",
            "Epoch 13/25\n",
            "1875/1875 - 9s - loss: 0.0031 - accuracy: 0.9996\n",
            "Epoch 14/25\n",
            "1875/1875 - 9s - loss: 0.0041 - accuracy: 0.9991\n",
            "Epoch 15/25\n",
            "1875/1875 - 9s - loss: 0.0017 - accuracy: 0.9999\n",
            "Epoch 16/25\n",
            "1875/1875 - 9s - loss: 0.0038 - accuracy: 0.9992\n",
            "Epoch 17/25\n",
            "1875/1875 - 9s - loss: 0.0027 - accuracy: 0.9995\n",
            "Epoch 18/25\n",
            "1875/1875 - 9s - loss: 0.0028 - accuracy: 0.9992\n",
            "Epoch 19/25\n",
            "1875/1875 - 10s - loss: 0.0012 - accuracy: 0.9998\n",
            "Epoch 20/25\n",
            "1875/1875 - 9s - loss: 0.0026 - accuracy: 0.9994\n",
            "Epoch 21/25\n",
            "1875/1875 - 9s - loss: 8.2309e-04 - accuracy: 0.9999\n",
            "Epoch 22/25\n",
            "1875/1875 - 9s - loss: 0.0020 - accuracy: 0.9996\n",
            "Epoch 23/25\n",
            "1875/1875 - 9s - loss: 0.0014 - accuracy: 0.9997\n",
            "Epoch 24/25\n",
            "1875/1875 - 9s - loss: 0.0010 - accuracy: 0.9999\n",
            "Epoch 25/25\n",
            "1875/1875 - 9s - loss: 0.0010 - accuracy: 0.9996\n",
            "313/313 - 1s - loss: 0.1182 - accuracy: 0.9766\n"
          ],
          "name": "stdout"
        },
        {
          "output_type": "execute_result",
          "data": {
            "text/plain": [
              "[0.1181698590517044, 0.9765999913215637]"
            ]
          },
          "metadata": {
            "tags": []
          },
          "execution_count": 11
        }
      ]
    },
    {
      "cell_type": "code",
      "metadata": {
        "id": "6ytmc-DF2WBT"
      },
      "source": [
        ""
      ],
      "execution_count": null,
      "outputs": []
    },
    {
      "cell_type": "markdown",
      "metadata": {
        "id": "emM5nwLc6kub"
      },
      "source": [
        "# New Section"
      ]
    }
  ]
}